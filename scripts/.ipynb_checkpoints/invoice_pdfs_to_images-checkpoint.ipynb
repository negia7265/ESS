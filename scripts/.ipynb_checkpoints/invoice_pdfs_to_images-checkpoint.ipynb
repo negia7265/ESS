{
 "cells": [
  {
   "cell_type": "code",
   "execution_count": 47,
   "id": "7c95428e-311a-4fe5-9d59-5928e88a0fc7",
   "metadata": {},
   "outputs": [],
   "source": [
    "import fitz\n",
    "import re\n",
    "import os \n",
    "import time"
   ]
  },
  {
   "cell_type": "code",
   "execution_count": 48,
   "id": "c0a07c0d-2b31-4c63-86c3-ce8c15174445",
   "metadata": {},
   "outputs": [
    {
     "name": "stdout",
     "output_type": "stream",
     "text": [
      "extract_data.ipynb  pdf2image.py   \u001b[0m\u001b[01;34mRAPIDO\u001b[0m/      \u001b[01;34mUBER\u001b[0m/\n",
      "\u001b[01;34mOLA\u001b[0m/                preprocess.py  rapido.json  uber.json\n",
      "ola.json            \u001b[01;34mrapido\u001b[0m/        train.ipynb  Untitled.ipynb\n"
     ]
    }
   ],
   "source": [
    "ls"
   ]
  },
  {
   "cell_type": "code",
   "execution_count": 52,
   "id": "71b7d53f-4d2a-45ac-a15d-87bb1b948436",
   "metadata": {},
   "outputs": [],
   "source": [
    "def folder2Images(dir_name):\n",
    "    start_time=time.time()\n",
    "    files=os.listdir(dir_name) # list all the files in a directory \n",
    "    image_dir=dir_name+\"_IMAGES\" #make a new folder name\n",
    "    os.mkdir(image_dir)# make a new directory where invoice images are to be stored\n",
    "    for file in files:  \n",
    "        num=re.split('_|\\.',file)[1] # number from invoice name will be fetched . Example : 12 FROM OLA_12.pdf\n",
    "        img_file_dir=f\"{image_dir}/{dir_name}_{num}\" # make image folder name eg. OLA_IMAGES/OLA_1\n",
    "        os.mkdir(img_file_dir)  \n",
    "        doc = fitz.open(f'{dir_name}/{file}') #open invoice image pdf\n",
    "        for page in doc:  # iterate through the pages\n",
    "            pix = page.get_pixmap(dpi=300)  # render page to an image\n",
    "            pix.save(f\"{img_file_dir}/{page.number}.png\")  # store image as a PNG eg. OLA_IMAGES/OLA_1/1.png\n",
    "    end_time=time.time()\n",
    "    print(f'converted {len(files)} invoice pdfs to images in {round(end_time-start_time,2)} seconds') "
   ]
  },
  {
   "cell_type": "code",
   "execution_count": 50,
   "id": "0bcc70c7-5f14-4bd4-af98-7c97e7adbc9b",
   "metadata": {},
   "outputs": [
    {
     "name": "stdout",
     "output_type": "stream",
     "text": [
      "converted invoice pdfs to images in 13.54 seconds\n"
     ]
    }
   ],
   "source": [
    "folder2Images('OLA')"
   ]
  },
  {
   "cell_type": "code",
   "execution_count": 51,
   "id": "e83e8ea7-c98a-4bb0-adf5-f3a1ffd92b49",
   "metadata": {},
   "outputs": [
    {
     "name": "stdout",
     "output_type": "stream",
     "text": [
      "converted invoice pdfs to images in 12.48 seconds\n"
     ]
    }
   ],
   "source": [
    "folder2Images('RAPIDO')"
   ]
  },
  {
   "cell_type": "code",
   "execution_count": 53,
   "id": "fb6af0a0-b529-4fff-b53e-359d6bced7ea",
   "metadata": {},
   "outputs": [
    {
     "name": "stdout",
     "output_type": "stream",
     "text": [
      "converted 39 invoice pdfs to images in 15.74 seconds\n"
     ]
    }
   ],
   "source": [
    "folder2Images('UBER')"
   ]
  },
  {
   "cell_type": "code",
   "execution_count": null,
   "id": "bbd99a59-1fd5-4f84-81fc-73b949f6ec4d",
   "metadata": {},
   "outputs": [],
   "source": []
  }
 ],
 "metadata": {
  "kernelspec": {
   "display_name": "Python 3 (ipykernel)",
   "language": "python",
   "name": "python3"
  },
  "language_info": {
   "codemirror_mode": {
    "name": "ipython",
    "version": 3
   },
   "file_extension": ".py",
   "mimetype": "text/x-python",
   "name": "python",
   "nbconvert_exporter": "python",
   "pygments_lexer": "ipython3",
   "version": "3.11.6"
  }
 },
 "nbformat": 4,
 "nbformat_minor": 5
}
