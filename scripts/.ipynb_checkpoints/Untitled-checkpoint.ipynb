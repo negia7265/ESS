{
 "cells": [
  {
   "cell_type": "markdown",
   "id": "4625a2b9-2e8b-414c-8e14-2d8b21259984",
   "metadata": {},
   "source": [
    "To train the model dataframes of all the invoice are required, so this notebook will fetch all the invoice data and save it for further training."
   ]
  },
  {
   "cell_type": "code",
   "execution_count": 1,
   "id": "c0308269-f386-4eb9-9587-3b59a25850db",
   "metadata": {},
   "outputs": [],
   "source": [
    "import cv2\n",
    "import pandas as pd\n",
    "import pytesseract"
   ]
  },
  {
   "cell_type": "code",
   "execution_count": 2,
   "id": "f83bb2f8-bd21-4a41-82d5-140f7f4d5747",
   "metadata": {},
   "outputs": [],
   "source": [
    "def preprocess_img(img):\n",
    "    # Decode and convert to grayscale\n",
    "    img = cv2.imdecode(np.frombuffer(img, np.uint8), cv2.IMREAD_GRAYSCALE)\n",
    "    # Denoising Image\n",
    "    img = cv2.fastNlMeansDenoising( img, None, 15, 7, 21 )   \n",
    "    # Image Binarization\n",
    "    img=cv2.adaptiveThreshold(img, 255, cv2.ADAPTIVE_THRESH_GAUSSIAN_C, cv2.THRESH_BINARY, 11, 2)\n",
    "    # Perform morphological operations (erosion and dilation)\n",
    "    kernel = np.ones((1, 1), np.uint8)\n",
    "    return cv2.morphologyEx(img, cv2.MORPH_DILATE, kernel)"
   ]
  },
  {
   "cell_type": "code",
   "execution_count": null,
   "id": "660aef49-7179-469f-a556-e673f4b23a8f",
   "metadata": {},
   "outputs": [],
   "source": [
    "def folder2Images(dir_name):\n",
    "    start_time=time.time()\n",
    "    image_dir=dir_name+\"_IMAGES\" # folder name\n",
    "    invoice_dirs=os.listdir(image_dir) # list all the invoice directories    \n",
    "    for invoice_dir in invoice_dirs:  \n",
    "        num=re.split('_|\\.',invoice_dir)[1] # number from invoice name will be fetched . Example : 12 FROM OLA_12\n",
    "        invoice_images_dir=f\"{image_dir}/{invoice_dir}\"  \n",
    "        invoice_images=os.listdir(invoice_images_dir)  \n",
    "        for invoice in invoice_images:      \n",
    "            num=re.split('\\.',invoice)[0]\n",
    "            f=open(invoice,'rb')\n",
    "            df=pytesseract.image_to_data(preprocess_img(f.read()))\n",
    "            df.to_csv(f'{invoice_images_dir}/{num}.csv')\n",
    "    end_time=time.time()\n",
    "    print(f'converted {len(files)} invoice pdfs to images in {round(end_time-start_time,2)} seconds')"
   ]
  },
  {
   "cell_type": "code",
   "execution_count": null,
   "id": "220d92eb-9a79-4dea-8028-35f50e6d4cf6",
   "metadata": {},
   "outputs": [],
   "source": []
  }
 ],
 "metadata": {
  "kernelspec": {
   "display_name": "Python 3 (ipykernel)",
   "language": "python",
   "name": "python3"
  },
  "language_info": {
   "codemirror_mode": {
    "name": "ipython",
    "version": 3
   },
   "file_extension": ".py",
   "mimetype": "text/x-python",
   "name": "python",
   "nbconvert_exporter": "python",
   "pygments_lexer": "ipython3",
   "version": "3.11.6"
  }
 },
 "nbformat": 4,
 "nbformat_minor": 5
}
