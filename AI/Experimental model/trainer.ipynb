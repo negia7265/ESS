{
 "cells": [
  {
   "cell_type": "code",
   "execution_count": 12,
   "id": "eea8a2e0-4838-4f34-bba8-1bc6dfd0d943",
   "metadata": {},
   "outputs": [],
   "source": [
    "import math\n",
    "import re\n",
    "import os\n",
    "import pandas\n",
    "from nltk.tokenize import word_tokenize\n",
    "from nltk.corpus import stopwords\n",
    "from nltk.stem import PorterStemmer\n",
    "from nltk.stem import WordNetLemmatizer\n",
    "lemmatizer = WordNetLemmatizer()\n",
    "stop_words = set(stopwords.words('english'))\n",
    "stop_words.remove('m') "
   ]
  },
  {
   "cell_type": "code",
   "execution_count": 41,
   "id": "27b366d3-ea46-467c-91ed-736fd27b6e8a",
   "metadata": {},
   "outputs": [],
   "source": [
    "\n",
    "def get_num(w):\n",
    "  w=w.translate(str.maketrans('','',\",₹$\")) \n",
    "  if w.isdigit():\n",
    "      return float(w)\n",
    "  return None\n",
    "    \n",
    "def preprocess(text):\n",
    "    #remove punctuation mark from the text\n",
    "    text=text.translate(str.maketrans('','',''',!\"#%&'()*+-/:;<=>?@[\\]^_`{|}~₹$'''))\n",
    "    # lower case each letter of the word\n",
    "    text=text.lower()\n",
    "    # convert text word to it's root word \n",
    "    stemmer = PorterStemmer()\n",
    "    text = stemmer.stem(text) \n",
    "    #lemmatization\n",
    "    return lemmatizer.lemmatize(text)\n",
    "\n",
    "def neighbours(qty,invoice_dir):\n",
    "    data=os.listdir(invoice_dir)\n",
    "    entities_data=[]\n",
    "    for csv in data:\n",
    "        df=pandas.read_csv(f'{invoice_dir}/{csv}')\n",
    "        df=df.dropna()\n",
    "        df['text']=df['text'].apply(preprocess)\n",
    "        length=len(df['text'])\n",
    "        for i in range(length):\n",
    "            num=get_num(df.iloc[i]['text'])\n",
    "            if num==None or qty!=num:\n",
    "                continue\n",
    "            ent=dict()\n",
    "            ent['entity']=qty\n",
    "            x1=df.iloc[i]['left']\n",
    "            y1=df.iloc[i]['top']\n",
    "            ent['x_pos']=x1\n",
    "            ent['y_pos']=y1\n",
    "            ent['neighbours']=dict()\n",
    "            for j in range(length):\n",
    "                if i==j:\n",
    "                    continue\n",
    "                txt=df.iloc[j]['text']\n",
    "                if not txt.isalpha():\n",
    "                    continue\n",
    "                x2=df.iloc[j]['left']\n",
    "                y2=df.iloc[j]['top']\n",
    "                if x2>x1 or y2>y1+100 or y2<y1-200:\n",
    "                    continue\n",
    "                if txt in ent['neighbours']:\n",
    "                    ent['neighbours'][txt]=min(ent['neighbours'][txt],math.dist([x1,y1],[x2,y2]))\n",
    "                else:\n",
    "                    ent['neighbours'][txt]=math.dist([x1,y1],[x2,y2])     \n",
    "            ent['neighbours']=dict(sorted(ent['neighbours'].items(), key=lambda item: item[1]))\n",
    "            entities_data.append(ent)\n",
    "    return entities_data"
   ]
  },
  {
   "cell_type": "code",
   "execution_count": 43,
   "id": "65a002db-2c92-41ea-800f-71c421fe2220",
   "metadata": {},
   "outputs": [
    {
     "data": {
      "text/plain": [
       "[{'entity': 415,\n",
       "  'x_pos': 1873,\n",
       "  'y_pos': 1160,\n",
       "  'neighbours': {'payabl': 65.45991139621256,\n",
       "   'min': 182.53766734567415,\n",
       "   'h': 221.0,\n",
       "   'discount': 347.4276903184316,\n",
       "   'time': 351.57360538015365,\n",
       "   'wait': 502.8717530345088,\n",
       "   'deduct': 646.0603686963007,\n",
       "   'total': 694.0180112936551,\n",
       "   'money': 748.914547862438,\n",
       "   'ola': 806.848808637653,\n",
       "   'dowih': 996.1094317393045,\n",
       "   'uou': 1038.3010160834863,\n",
       "   'z': 1077.1044517594382,\n",
       "   'mdig': 1158.0798763470507,\n",
       "   'beg': 1194.5731455210266,\n",
       "   'at': 1249.7795805661092,\n",
       "   'm': 1268.7513546790797,\n",
       "   'yrmoar': 1338.6280289908768,\n",
       "   've': 1456.3742650843567,\n",
       "   'sta': 1476.2848641099047,\n",
       "   'a': 1486.6512704733414,\n",
       "   'aotn': 1494.5865649068307,\n",
       "   'pmle': 1585.2523458427684}},\n",
       " {'entity': 415,\n",
       "  'x_pos': 1938,\n",
       "  'y_pos': 1420,\n",
       "  'neighbours': {'bill': 311.00160771288625,\n",
       "   'fareidetaii': 370.48751665879377,\n",
       "   'payabl': 513.0009746579435,\n",
       "   'breakup': 518.5903971343859,\n",
       "   'total': 642.000778815727,\n",
       "   'tax': 648.7010097109453,\n",
       "   'brexop': 1218.2774724995943,\n",
       "   'km': 1249.000400320192,\n",
       "   'fare': 1375.0916333103041,\n",
       "   'for': 1389.0003599711556,\n",
       "   'base': 1638.0003052502768,\n",
       "   'rate': 1640.1524319403975}}]"
      ]
     },
     "execution_count": 43,
     "metadata": {},
     "output_type": "execute_result"
    }
   ],
   "source": [
    "neighbours(415,'OLA_CSV/OLA_2')"
   ]
  },
  {
   "cell_type": "code",
   "execution_count": null,
   "id": "d02333cc-0e82-4d20-bb27-5115bf960024",
   "metadata": {},
   "outputs": [],
   "source": []
  }
 ],
 "metadata": {
  "kernelspec": {
   "display_name": "Python 3 (ipykernel)",
   "language": "python",
   "name": "python3"
  },
  "language_info": {
   "codemirror_mode": {
    "name": "ipython",
    "version": 3
   },
   "file_extension": ".py",
   "mimetype": "text/x-python",
   "name": "python",
   "nbconvert_exporter": "python",
   "pygments_lexer": "ipython3",
   "version": "3.11.6"
  }
 },
 "nbformat": 4,
 "nbformat_minor": 5
}
