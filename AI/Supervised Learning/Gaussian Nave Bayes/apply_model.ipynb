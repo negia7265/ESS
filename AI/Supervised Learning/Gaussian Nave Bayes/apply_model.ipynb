{
 "cells": [
  {
   "cell_type": "code",
   "execution_count": 5,
   "id": "33bbe278-6bde-42ca-86a6-b863f0f574a3",
   "metadata": {},
   "outputs": [],
   "source": [
    "from nltk.tokenize import word_tokenize\n",
    "from nltk.corpus import stopwords\n",
    "from nltk.stem import PorterStemmer\n",
    "from gensim.models import Word2Vec\n",
    "import re # For preprocessing\n",
    "from nltk.stem import WordNetLemmatizer\n",
    "import joblib\n",
    "lemmatizer = WordNetLemmatizer()\n",
    "stop_words = set(stopwords.words('english'))\n",
    "stop_words.remove('m')  #meter word must not be removed during preprocessing"
   ]
  },
  {
   "cell_type": "code",
   "execution_count": 2,
   "id": "c8c98504-cecf-4a12-a585-4337f3cf2983",
   "metadata": {},
   "outputs": [],
   "source": [
    "def preprocess_text(text):\n",
    "    #remove punctuation mark from the text\n",
    "    text=text.translate(str.maketrans('','',''',!\"#%&'()*+-/:;<=.>?@[\\]^_`{|}~'''))\n",
    "    #remove new line characters\n",
    "    text=text.replace('\\n', ' ')\n",
    "    # lower case each letter of the word\n",
    "    text=text.lower()\n",
    "    #including space in beween {num}{word} \n",
    "    text=re.sub(r'(\\d+)([a-z]+)', r'\\1 \\2', text)\n",
    "    # split the words into tokens\n",
    "    tokens=word_tokenize(text)\n",
    "    # remove stop words \n",
    "    tokens = [word for word in tokens if word not in stop_words]\n",
    "    #all words to root words\n",
    "    stemmer = PorterStemmer()\n",
    "    tokens = [stemmer.stem(word) for word in tokens]\n",
    "    #lemmatization\n",
    "    lemmatized = [lemmatizer.lemmatize(token) for token in tokens]\n",
    "    return ' '.join(lemmatized) "
   ]
  },
  {
   "cell_type": "code",
   "execution_count": 3,
   "id": "374a521b-6485-4575-9e58-43f1d321b7b4",
   "metadata": {},
   "outputs": [
    {
     "name": "stdout",
     "output_type": "stream",
     "text": [
      "distance_model.joblib  km_m_model.w2v  nave_bayes_train.ipynb  Untitled.ipynb\n"
     ]
    }
   ],
   "source": [
    "ls"
   ]
  },
  {
   "cell_type": "code",
   "execution_count": 6,
   "id": "6c183fcc-bd72-4b21-a6a8-a0f6579343e5",
   "metadata": {},
   "outputs": [],
   "source": [
    "word2vec = Word2Vec.load(\"km_m_model.w2v\")\n",
    "model=joblib.load('distance_model.joblib')"
   ]
  },
  {
   "cell_type": "code",
   "execution_count": 37,
   "id": "f38152e8-9071-43ed-b5d5-cfda23ec97e0",
   "metadata": {},
   "outputs": [],
   "source": [
    "def extract_distance(sentence):\n",
    "    sentence=preprocess_text(sentence)\n",
    "    list=sentence.split(' ')\n",
    "    distance=[]\n",
    "    pattern = re.compile('[0-9]*.?[0-9]+$')\n",
    "    for i in range(len(list)-1):\n",
    "      if pattern.match(list[i]):\n",
    "          if list[i+1] in word2vec.wv.key_to_index and model.predict([word2vec.wv[list[i+1]]]):\n",
    "             distance.append(float(list[i]))\n",
    "    return distance"
   ]
  },
  {
   "cell_type": "code",
   "execution_count": 39,
   "id": "ed528494-464d-41a7-b6d0-b72a5e00d48a",
   "metadata": {},
   "outputs": [
    {
     "data": {
      "text/plain": [
       "[9.0, 10.0]"
      ]
     },
     "execution_count": 39,
     "metadata": {},
     "output_type": "execute_result"
    }
   ],
   "source": [
    "extract_distance('The boy traveled 9kilometers which incurred 20$ and further traveled 10kms ahead.')"
   ]
  },
  {
   "cell_type": "code",
   "execution_count": 40,
   "id": "ded6ab1d-5faf-413c-a700-089e344d4416",
   "metadata": {},
   "outputs": [
    {
     "data": {
      "text/plain": [
       "[10.0]"
      ]
     },
     "execution_count": 40,
     "metadata": {},
     "output_type": "execute_result"
    }
   ],
   "source": [
    "extract_distance('The home is 10 KILometres away sunny.')"
   ]
  },
  {
   "cell_type": "code",
   "execution_count": null,
   "id": "db5a108e-33d1-4629-ba42-c961fc20f28a",
   "metadata": {},
   "outputs": [],
   "source": []
  }
 ],
 "metadata": {
  "kernelspec": {
   "display_name": "Python 3 (ipykernel)",
   "language": "python",
   "name": "python3"
  },
  "language_info": {
   "codemirror_mode": {
    "name": "ipython",
    "version": 3
   },
   "file_extension": ".py",
   "mimetype": "text/x-python",
   "name": "python",
   "nbconvert_exporter": "python",
   "pygments_lexer": "ipython3",
   "version": "3.11.2"
  }
 },
 "nbformat": 4,
 "nbformat_minor": 5
}
